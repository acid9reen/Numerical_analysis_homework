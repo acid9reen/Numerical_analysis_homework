{
 "cells": [
  {
   "cell_type": "code",
   "execution_count": null,
   "metadata": {},
   "outputs": [],
   "source": [
    "h = 0.01\n",
    "epsilon = 0.01"
   ]
  },
  {
   "cell_type": "code",
   "execution_count": null,
   "metadata": {},
   "outputs": [],
   "source": [
    "def func1(x, y, u):\n",
    "    return y\n",
    "\n",
    "\n",
    "def func2(x, y, u):\n",
    "    return -0.15 * y - 2 * u\n",
    "\n",
    "\n",
    "def RK3(x, y, u, h):\n",
    "    x_next = x + h\n",
    "    k1_1 = func1(x, y, u)\n",
    "    k1_2 = func2(x, y, u)\n",
    "    k2_1 = func1(x + h / 3, y + (h / 3) * k1_2, u + (h / 3) * k1_1)\n",
    "    k2_2 = func2(x + h / 3, y + (h / 3) * k1_2, u + (h / 3) * k1_1))\n",
    "    k3_1 = func1(x + (2 * h / 3), y + (2 * h / 3) * k2_2, u + (h/3) * k2_1)\n",
    "    k3_2 = func2(x + (2 * h / 3), y + (2 * h / 3) * k2_2, u + (h/3) * k2_1)\n",
    "\n",
    "    y_next = y + h * ((1 / 4) * k1_2 + (3 / 4) * k3_2)\n",
    "    u_next = u + h * ((1 / 4) * k1_1 + (3 / 4) * k3_1)\n",
    "    \n",
    "    return x_next, y_next, u_next\n",
    "\n",
    "def step_control(x, y, u, h):\n",
    "    whole_step = RK3(x, y, u, h)\n",
    "    half_step1 = RK3(x, y, u, h/2)\n",
    "    half_step2 = RK3(*half_step1, h/2)\n",
    "    \n",
    "    \n"
   ]
  },
  {
   "cell_type": "code",
   "execution_count": null,
   "metadata": {},
   "outputs": [],
   "source": []
  }
 ],
 "metadata": {
  "language_info": {
   "codemirror_mode": {
    "name": "ipython",
    "version": 3
   },
   "file_extension": ".py",
   "mimetype": "text/x-python",
   "name": "python",
   "nbconvert_exporter": "python",
   "pygments_lexer": "ipython3",
   "version": "3.8.3-final"
  },
  "orig_nbformat": 2,
  "kernelspec": {
   "name": "python_defaultSpec_1601137451240",
   "display_name": "Python 3.8.3 64-bit"
  }
 },
 "nbformat": 4,
 "nbformat_minor": 2
}